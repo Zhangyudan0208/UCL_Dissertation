{
 "cells": [
  {
   "cell_type": "code",
   "execution_count": 1,
   "id": "62b52056-2162-427c-aaa9-560b52dce3cd",
   "metadata": {},
   "outputs": [],
   "source": [
    "import pandas as pd\n",
    "from statsmodels.stats.outliers_influence import variance_inflation_factor\n",
    "import numpy as np\n",
    "from numpy.linalg import svd"
   ]
  },
  {
   "cell_type": "code",
   "execution_count": 2,
   "id": "65aca1ab-e769-488b-be69-2fe62a4fadeb",
   "metadata": {},
   "outputs": [],
   "source": [
    "file_path = \"data/Panel_data_calculation_results817.csv\"\n",
    "df = pd.read_csv(file_path)"
   ]
  },
  {
   "cell_type": "code",
   "execution_count": 3,
   "id": "a4bef977-3b27-4553-bb88-be7f3c686628",
   "metadata": {},
   "outputs": [
    {
     "name": "stdout",
     "output_type": "stream",
     "text": [
      "<class 'pandas.core.frame.DataFrame'>\n",
      "RangeIndex: 1452 entries, 0 to 1451\n",
      "Data columns (total 22 columns):\n",
      " #   Column             Non-Null Count  Dtype  \n",
      "---  ------             --------------  -----  \n",
      " 0   Name_of_Regions_x  1452 non-null   object \n",
      " 1   Year               1452 non-null   int64  \n",
      " 2   Citycode           1452 non-null   float64\n",
      " 3   UI                 1452 non-null   float64\n",
      " 4   Name_of_Regions_y  1452 non-null   object \n",
      " 5   UER                1452 non-null   float64\n",
      " 6   C                  1452 non-null   float64\n",
      " 7   T                  1452 non-null   float64\n",
      " 8   D                  1452 non-null   float64\n",
      " 9   UI_normalized      1452 non-null   float64\n",
      " 10  UER_normalized     1452 non-null   float64\n",
      " 11  C2                 1452 non-null   float64\n",
      " 12  T2                 1452 non-null   float64\n",
      " 13  D2                 1452 non-null   float64\n",
      " 14  Delta_UER          1160 non-null   float64\n",
      " 15  Delta_UI           1160 non-null   float64\n",
      " 16  DI                 1160 non-null   float64\n",
      " 17  Delta_UER_l        288 non-null    float64\n",
      " 18  Delta_UI_l         288 non-null    float64\n",
      " 19  DI_long            288 non-null    float64\n",
      " 20  DI_C_Short         1452 non-null   object \n",
      " 21  DI_C_Long          1452 non-null   object \n",
      "dtypes: float64(17), int64(1), object(4)\n",
      "memory usage: 249.7+ KB\n"
     ]
    }
   ],
   "source": [
    "df.info()"
   ]
  },
  {
   "cell_type": "code",
   "execution_count": 4,
   "id": "5bc93058-47bd-4aad-a31f-583601ff32fb",
   "metadata": {},
   "outputs": [
    {
     "name": "stdout",
     "output_type": "stream",
     "text": [
      "VIF for the year 2006:\n",
      "  feature       VIF\n",
      "0      UI  1.865744\n",
      "1     UER  1.865744\n",
      "\n",
      "\n",
      "VIF for the year 2010:\n",
      "  feature       VIF\n",
      "0      UI  1.908362\n",
      "1     UER  1.908362\n",
      "\n",
      "\n",
      "VIF for the year 2014:\n",
      "  feature       VIF\n",
      "0      UI  1.913401\n",
      "1     UER  1.913401\n",
      "\n",
      "\n",
      "VIF for the year 2018:\n",
      "  feature       VIF\n",
      "0      UI  1.859703\n",
      "1     UER  1.859703\n",
      "\n",
      "\n",
      "VIF for the year 2022:\n",
      "  feature      VIF\n",
      "0      UI  1.76316\n",
      "1     UER  1.76316\n",
      "\n",
      "\n"
     ]
    }
   ],
   "source": [
    "# Calculate VIF for each year\n",
    "years = [2006, 2010, 2014, 2018, 2022]\n",
    "df_filtered = df[df['Year'].isin(years)]\n",
    "\n",
    "def calculate_vif(df):\n",
    "    vif_data = pd.DataFrame()\n",
    "    vif_data[\"feature\"] = df.columns\n",
    "    vif_data[\"VIF\"] = [variance_inflation_factor(df.values, i) for i in range(len(df.columns))]\n",
    "    return vif_data\n",
    "\n",
    "for year in years:\n",
    "    print(f\"VIF for the year {year}:\")\n",
    "    df_year = df_filtered[df_filtered['Year'] == year][['UI', 'UER']]\n",
    "    vif = calculate_vif(df_year)\n",
    "    print(vif)\n",
    "    print(\"\\n\")"
   ]
  },
  {
   "cell_type": "code",
   "execution_count": 6,
   "id": "032a0427-c121-486e-a895-67fd38b3bcdd",
   "metadata": {},
   "outputs": [
    {
     "name": "stdout",
     "output_type": "stream",
     "text": [
      "VIF for the year 2006:\n",
      "          feature       VIF\n",
      "0   UI_normalized  1.535797\n",
      "1  UER_normalized  1.535797\n",
      "\n",
      "\n",
      "VIF for the year 2010:\n",
      "          feature      VIF\n",
      "0   UI_normalized  1.60186\n",
      "1  UER_normalized  1.60186\n",
      "\n",
      "\n",
      "VIF for the year 2014:\n",
      "          feature       VIF\n",
      "0   UI_normalized  1.658606\n",
      "1  UER_normalized  1.658606\n",
      "\n",
      "\n",
      "VIF for the year 2018:\n",
      "          feature       VIF\n",
      "0   UI_normalized  1.647261\n",
      "1  UER_normalized  1.647261\n",
      "\n",
      "\n",
      "VIF for the year 2022:\n",
      "          feature       VIF\n",
      "0   UI_normalized  1.591913\n",
      "1  UER_normalized  1.591913\n",
      "\n",
      "\n"
     ]
    }
   ],
   "source": [
    "# Calculate VIF for each year\n",
    "years = [2006, 2010, 2014, 2018, 2022]\n",
    "df_filtered = df[df['Year'].isin(years)]\n",
    "\n",
    "def calculate_vif(df):\n",
    "    vif_data = pd.DataFrame()\n",
    "    vif_data[\"feature\"] = df.columns\n",
    "    vif_data[\"VIF\"] = [variance_inflation_factor(df.values, i) for i in range(len(df.columns))]\n",
    "    return vif_data\n",
    "\n",
    "for year in years:\n",
    "    print(f\"VIF for the year {year}:\")\n",
    "    df_year = df_filtered[df_filtered['Year'] == year][['UI_normalized', 'UER_normalized']]\n",
    "    vif = calculate_vif(df_year)\n",
    "    print(vif)\n",
    "    print(\"\\n\")"
   ]
  },
  {
   "cell_type": "code",
   "execution_count": 7,
   "id": "def7342e-2f72-4338-9c5c-ba742fe33f31",
   "metadata": {},
   "outputs": [
    {
     "name": "stdout",
     "output_type": "stream",
     "text": [
      "Condition Index for the year 2006:\n",
      "[1.         2.35197039]\n",
      "No significant multicollinearity detected for the year 2006.\n",
      "\n",
      "Condition Index for the year 2010:\n",
      "[1.         2.40269449]\n",
      "No significant multicollinearity detected for the year 2010.\n",
      "\n",
      "Condition Index for the year 2014:\n",
      "[1.        2.3431132]\n",
      "No significant multicollinearity detected for the year 2014.\n",
      "\n",
      "Condition Index for the year 2018:\n",
      "[1.         2.29845135]\n",
      "No significant multicollinearity detected for the year 2018.\n",
      "\n",
      "Condition Index for the year 2022:\n",
      "[1.         2.24312589]\n",
      "No significant multicollinearity detected for the year 2022.\n",
      "\n"
     ]
    }
   ],
   "source": [
    "# Function to calculate the Condition Index (CI)\n",
    "def calculate_condition_index(X):\n",
    "    _, s, _ = svd(X)\n",
    "    condition_index = np.max(s) / s\n",
    "    return condition_index\n",
    "\n",
    "years = [2006, 2010, 2014, 2018, 2022]\n",
    "for year in years:\n",
    "    # Filter the data for the specific year\n",
    "    df_year = df[df['Year'] == year]\n",
    "    \n",
    "    # Select the columns for UI_normalized and UER_normalized\n",
    "    X = df_year[['UI', 'UER']].values\n",
    "    \n",
    "    # Calculate the Condition Index\n",
    "    condition_index = calculate_condition_index(X)\n",
    "    \n",
    "    print(f\"Condition Index for the year {year}:\")\n",
    "    print(condition_index)\n",
    "\n",
    "    # Analyze the maximum condition index\n",
    "    max_ci = np.max(condition_index)\n",
    "    if max_ci > 15:\n",
    "        print(f\"Warning: Potential multicollinearity detected in the year {year} with a Condition Index of {max_ci:.2f}\")\n",
    "    else:\n",
    "        print(f\"No significant multicollinearity detected for the year {year}.\\n\")"
   ]
  },
  {
   "cell_type": "code",
   "execution_count": 8,
   "id": "5515d018-c26a-424b-ab42-7c077132d2bc",
   "metadata": {},
   "outputs": [
    {
     "name": "stdout",
     "output_type": "stream",
     "text": [
      "Condition Index for the year 2006:\n",
      "[ 1.         12.04275199]\n",
      "No significant multicollinearity detected for the year 2006.\n",
      "\n",
      "Condition Index for the year 2010:\n",
      "[ 1.        12.4590478]\n",
      "No significant multicollinearity detected for the year 2010.\n",
      "\n",
      "Condition Index for the year 2014:\n",
      "[ 1.         10.75161655]\n",
      "No significant multicollinearity detected for the year 2014.\n",
      "\n",
      "Condition Index for the year 2018:\n",
      "[1.         9.45937318]\n",
      "No significant multicollinearity detected for the year 2018.\n",
      "\n",
      "Condition Index for the year 2022:\n",
      "[1.         8.42770386]\n",
      "No significant multicollinearity detected for the year 2022.\n",
      "\n"
     ]
    }
   ],
   "source": [
    "# Function to calculate the Condition Index (CI)\n",
    "def calculate_condition_index(X):\n",
    "    _, s, _ = svd(X)\n",
    "    condition_index = np.max(s) / s\n",
    "    return condition_index\n",
    "\n",
    "years = [2006, 2010, 2014, 2018, 2022]\n",
    "for year in years:\n",
    "    # Filter the data for the specific year\n",
    "    df_year = df[df['Year'] == year]\n",
    "    \n",
    "    # Select the columns for UI_normalized and UER_normalized\n",
    "    X = df_year[['UI_normalized', 'UER_normalized']].values\n",
    "    \n",
    "    # Calculate the Condition Index\n",
    "    condition_index = calculate_condition_index(X)\n",
    "    \n",
    "    print(f\"Condition Index for the year {year}:\")\n",
    "    print(condition_index)\n",
    "\n",
    "    # Analyze the maximum condition index\n",
    "    max_ci = np.max(condition_index)\n",
    "    if max_ci > 15:\n",
    "        print(f\"Warning: Potential multicollinearity detected in the year {year} with a Condition Index of {max_ci:.2f}\")\n",
    "    else:\n",
    "        print(f\"No significant multicollinearity detected for the year {year}.\\n\")"
   ]
  }
 ],
 "metadata": {
  "kernelspec": {
   "display_name": "Python 3 (ipykernel)",
   "language": "python",
   "name": "python3"
  },
  "language_info": {
   "codemirror_mode": {
    "name": "ipython",
    "version": 3
   },
   "file_extension": ".py",
   "mimetype": "text/x-python",
   "name": "python",
   "nbconvert_exporter": "python",
   "pygments_lexer": "ipython3",
   "version": "3.11.5"
  }
 },
 "nbformat": 4,
 "nbformat_minor": 5
}
